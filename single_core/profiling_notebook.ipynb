{
 "cells": [
  {
   "cell_type": "markdown",
   "id": "9f7a2157",
   "metadata": {},
   "source": [
    "# Profiling Example 1"
   ]
  },
  {
   "cell_type": "code",
   "execution_count": 1,
   "id": "a8bdd137",
   "metadata": {},
   "outputs": [],
   "source": [
    "import numpy as np"
   ]
  },
  {
   "cell_type": "code",
   "execution_count": 2,
   "id": "635df07a",
   "metadata": {},
   "outputs": [],
   "source": [
    "from profiling_example import initialize_array, compute_norm"
   ]
  },
  {
   "cell_type": "code",
   "execution_count": 3,
   "id": "024b213f",
   "metadata": {},
   "outputs": [
    {
     "name": "stdout",
     "output_type": "stream",
     "text": [
      "CPU times: user 763 ms, sys: 7.09 ms, total: 770 ms\n",
      "Wall time: 770 ms\n"
     ]
    }
   ],
   "source": [
    "%time t = initialize_array()"
   ]
  },
  {
   "cell_type": "code",
   "execution_count": 4,
   "id": "7f09fd0a",
   "metadata": {},
   "outputs": [
    {
     "name": "stdout",
     "output_type": "stream",
     "text": [
      "726 ms ± 9.92 ms per loop (mean ± std. dev. of 7 runs, 1 loop each)\n"
     ]
    }
   ],
   "source": [
    "%timeit t = initialize_array()"
   ]
  },
  {
   "cell_type": "code",
   "execution_count": 5,
   "id": "141ddb08",
   "metadata": {},
   "outputs": [
    {
     "name": "stdout",
     "output_type": "stream",
     "text": [
      " "
     ]
    }
   ],
   "source": [
    "%prun t = compute_norm(initialize_array())"
   ]
  },
  {
   "cell_type": "code",
   "execution_count": 8,
   "id": "63bbf696",
   "metadata": {},
   "outputs": [
    {
     "name": "stdout",
     "output_type": "stream",
     "text": [
      "Collecting line_profiler\n",
      "  Using cached line_profiler-4.0.2-cp39-cp39-manylinux_2_17_x86_64.manylinux2014_x86_64.whl (662 kB)\n",
      "Installing collected packages: line-profiler\n",
      "Successfully installed line-profiler-4.0.2\n",
      "Note: you may need to restart the kernel to use updated packages.\n"
     ]
    }
   ],
   "source": [
    "\n",
    " pip install line_profiler"
   ]
  },
  {
   "cell_type": "code",
   "execution_count": 9,
   "id": "9e6beca6",
   "metadata": {},
   "outputs": [],
   "source": [
    "\n",
    "%load_ext line_profiler"
   ]
  },
  {
   "cell_type": "code",
   "execution_count": 10,
   "id": "e0212cab",
   "metadata": {},
   "outputs": [],
   "source": [
    "%lprun -f initialize_array compute_norm(initialize_array())"
   ]
  },
  {
   "cell_type": "code",
   "execution_count": null,
   "id": "258af642",
   "metadata": {},
   "outputs": [],
   "source": []
  }
 ],
 "metadata": {
  "kernelspec": {
   "display_name": "Python 3 (ipykernel)",
   "language": "python",
   "name": "python3"
  },
  "language_info": {
   "codemirror_mode": {
    "name": "ipython",
    "version": 3
   },
   "file_extension": ".py",
   "mimetype": "text/x-python",
   "name": "python",
   "nbconvert_exporter": "python",
   "pygments_lexer": "ipython3",
   "version": "3.9.9"
  }
 },
 "nbformat": 4,
 "nbformat_minor": 5
}
