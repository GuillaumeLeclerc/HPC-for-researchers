{
 "cells": [
  {
   "cell_type": "code",
   "execution_count": 1,
   "id": "3e868d76",
   "metadata": {},
   "outputs": [],
   "source": [
    "import numpy as np\n",
    "import numba as nb"
   ]
  },
  {
   "cell_type": "markdown",
   "id": "8a8efbef",
   "metadata": {},
   "source": [
    "# Problem statement\n",
    "\n",
    "We have an array of numbers and we want to compute the following formula\n",
    "\n",
    "`r = (2 * x)**2 + (2 * x) / 3 + abs(2 * x)** 0.5`\n",
    "\n",
    "# Array Creation"
   ]
  },
  {
   "cell_type": "code",
   "execution_count": 2,
   "id": "822158bd",
   "metadata": {},
   "outputs": [],
   "source": [
    "N = 1_000_000\n",
    "array = np.random.randn(N)"
   ]
  },
  {
   "cell_type": "markdown",
   "id": "07ec3776",
   "metadata": {},
   "source": [
    "# Numpy implementation\n"
   ]
  },
  {
   "cell_type": "code",
   "execution_count": 3,
   "id": "4aaf6786",
   "metadata": {},
   "outputs": [],
   "source": [
    "def numpy_1(x):\n",
    "    return (2 * x)**2 + (2 * x) / 3 + np.abs(2 * x)** 0.5"
   ]
  },
  {
   "cell_type": "code",
   "execution_count": 4,
   "id": "1e3302d6",
   "metadata": {},
   "outputs": [
    {
     "name": "stdout",
     "output_type": "stream",
     "text": [
      "8.63 ms ± 18.3 µs per loop (mean ± std. dev. of 7 runs, 100 loops each)\n"
     ]
    }
   ],
   "source": [
    "%timeit numpy_1(array)"
   ]
  },
  {
   "cell_type": "markdown",
   "id": "145605e3",
   "metadata": {},
   "source": [
    "### A little better"
   ]
  },
  {
   "cell_type": "code",
   "execution_count": 5,
   "id": "ab1a4a83",
   "metadata": {},
   "outputs": [],
   "source": [
    "def numpy_2(x):\n",
    "    x2 = 2*x\n",
    "    return x2**2 + x2 / 3 + np.abs(x2)** 0.5"
   ]
  },
  {
   "cell_type": "code",
   "execution_count": 6,
   "id": "5ed2ef28",
   "metadata": {},
   "outputs": [
    {
     "name": "stdout",
     "output_type": "stream",
     "text": [
      "7.36 ms ± 41.2 µs per loop (mean ± std. dev. of 7 runs, 100 loops each)\n"
     ]
    }
   ],
   "source": [
    "%timeit numpy_2(array)"
   ]
  },
  {
   "cell_type": "markdown",
   "id": "f3bdbc25",
   "metadata": {},
   "source": [
    "# Numba\n"
   ]
  },
  {
   "cell_type": "code",
   "execution_count": 7,
   "id": "68a2e175",
   "metadata": {},
   "outputs": [],
   "source": [
    "@nb.njit()\n",
    "def numba_1(x):\n",
    "    return (2 * x)**2 + (2 * x) / 3 + np.abs(2 * x)** 0.5"
   ]
  },
  {
   "cell_type": "code",
   "execution_count": 8,
   "id": "b2c49e68",
   "metadata": {},
   "outputs": [
    {
     "name": "stdout",
     "output_type": "stream",
     "text": [
      "1.35 ms ± 30.7 µs per loop (mean ± std. dev. of 7 runs, 1 loop each)\n"
     ]
    }
   ],
   "source": [
    "%timeit numba_1(array)"
   ]
  },
  {
   "cell_type": "markdown",
   "id": "e4f87aae",
   "metadata": {},
   "source": [
    "### A little better"
   ]
  },
  {
   "cell_type": "code",
   "execution_count": 9,
   "id": "816c7448",
   "metadata": {},
   "outputs": [],
   "source": [
    "@nb.njit()\n",
    "def numba_2(x):\n",
    "    x2 = 2*x\n",
    "    return x2**2 + x2 / 3 + np.abs(x2)** 0.5"
   ]
  },
  {
   "cell_type": "code",
   "execution_count": 10,
   "id": "0b8d20d3",
   "metadata": {},
   "outputs": [
    {
     "name": "stdout",
     "output_type": "stream",
     "text": [
      "6.18 ms ± 42.6 µs per loop (mean ± std. dev. of 7 runs, 100 loops each)\n"
     ]
    }
   ],
   "source": [
    "%timeit numba_2(array)"
   ]
  },
  {
   "cell_type": "markdown",
   "id": "ed01f3a4",
   "metadata": {},
   "source": [
    "### For real this time"
   ]
  },
  {
   "cell_type": "code",
   "execution_count": 14,
   "id": "baf2878b",
   "metadata": {},
   "outputs": [],
   "source": [
    "@nb.njit()\n",
    "def numba_3(x):\n",
    "    result = np.zeros_like(x)\n",
    "    for i in range(len(x)):\n",
    "        x2 = 2*x[i]\n",
    "        result[i] = x2**2 + x2 / 3 + np.abs(x2)** 0.5\n",
    "        \n",
    "    return result"
   ]
  },
  {
   "cell_type": "code",
   "execution_count": 16,
   "id": "e50e3c83",
   "metadata": {},
   "outputs": [
    {
     "name": "stdout",
     "output_type": "stream",
     "text": [
      "1.57 ms ± 39.6 µs per loop (mean ± std. dev. of 7 runs, 1000 loops each)\n"
     ]
    }
   ],
   "source": [
    "%timeit numba_3(array)"
   ]
  },
  {
   "cell_type": "markdown",
   "id": "6429a85f",
   "metadata": {},
   "source": [
    "### Quick Maf"
   ]
  },
  {
   "cell_type": "code",
   "execution_count": 17,
   "id": "bc42ac36",
   "metadata": {},
   "outputs": [],
   "source": [
    "@nb.njit(fastmath=True)\n",
    "def numba_4(x):\n",
    "    return (2 * x)**2 + (2 * x) / 3 + np.abs(2 * x)** 0.5"
   ]
  },
  {
   "cell_type": "code",
   "execution_count": 18,
   "id": "4574fb76",
   "metadata": {},
   "outputs": [
    {
     "name": "stdout",
     "output_type": "stream",
     "text": [
      "914 µs ± 6.65 µs per loop (mean ± std. dev. of 7 runs, 1000 loops each)\n"
     ]
    }
   ],
   "source": [
    "%timeit numba_4(array)"
   ]
  },
  {
   "cell_type": "markdown",
   "id": "cdcc7cad",
   "metadata": {},
   "source": [
    "# Just python"
   ]
  },
  {
   "cell_type": "code",
   "execution_count": 19,
   "id": "e880acf3",
   "metadata": {},
   "outputs": [],
   "source": [
    "def python_only(array):\n",
    "    return [(2 * x)**2 + (2 * x) / 3 + np.abs(2 * x)** 0.5 for x in array]"
   ]
  },
  {
   "cell_type": "code",
   "execution_count": 20,
   "id": "437d5795",
   "metadata": {},
   "outputs": [
    {
     "name": "stdout",
     "output_type": "stream",
     "text": [
      "CPU times: user 1.65 s, sys: 10.3 ms, total: 1.66 s\n",
      "Wall time: 1.66 s\n"
     ]
    }
   ],
   "source": [
    "%time n = python_only(array)"
   ]
  },
  {
   "cell_type": "code",
   "execution_count": 21,
   "id": "6dfc99a8",
   "metadata": {},
   "outputs": [
    {
     "name": "stdout",
     "output_type": "stream",
     "text": [
      "speedup: 2347.417840375587x\n"
     ]
    }
   ],
   "source": [
    "print(f\"speedup: {2000/0.852}x\")"
   ]
  }
 ],
 "metadata": {
  "kernelspec": {
   "display_name": "Python 3 (ipykernel)",
   "language": "python",
   "name": "python3"
  },
  "language_info": {
   "codemirror_mode": {
    "name": "ipython",
    "version": 3
   },
   "file_extension": ".py",
   "mimetype": "text/x-python",
   "name": "python",
   "nbconvert_exporter": "python",
   "pygments_lexer": "ipython3",
   "version": "3.9.9"
  }
 },
 "nbformat": 4,
 "nbformat_minor": 5
}
