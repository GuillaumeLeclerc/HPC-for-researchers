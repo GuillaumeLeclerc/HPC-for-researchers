{
 "cells": [
  {
   "cell_type": "code",
   "execution_count": 2,
   "id": "e194f4d7",
   "metadata": {},
   "outputs": [],
   "source": [
    "import os\n",
    "os.environ['MKL_NUM_THREADS'] = '1'\n",
    "import numpy as np\n",
    "import numba as nb\n",
    "from tqdm import tqdm\n",
    "from time import time\n",
    "import matplotlib.pyplot as plt"
   ]
  },
  {
   "cell_type": "markdown",
   "id": "4366ccb0",
   "metadata": {},
   "source": [
    "# Problem statement\n",
    "\n",
    "We have two matrices N x N, A and B\n",
    "\n",
    "We want to compute the matrix multiplication\n",
    "\n",
    "## Array initialization"
   ]
  },
  {
   "cell_type": "code",
   "execution_count": 3,
   "id": "6fec023a",
   "metadata": {},
   "outputs": [],
   "source": [
    "N = 1024\n",
    "A = np.random.randn(N, N)\n",
    "B = np.random.randn(N, N)"
   ]
  },
  {
   "cell_type": "markdown",
   "id": "a5e0b9ba",
   "metadata": {},
   "source": [
    "## Naive numba\n"
   ]
  },
  {
   "cell_type": "code",
   "execution_count": 4,
   "id": "772c077c",
   "metadata": {},
   "outputs": [],
   "source": [
    "@nb.njit()\n",
    "def mm_numba(A, B):\n",
    "    result = np.zeros((A.shape[0], B.shape[1]))\n",
    "    for i in range(result.shape[0]):\n",
    "        for j in range(result.shape[1]):\n",
    "            for k in range(A.shape[1]):\n",
    "                result[i, j] += A[i, k ] * B[k, j]\n",
    "    return result\n",
    "        \n",
    "        "
   ]
  },
  {
   "cell_type": "code",
   "execution_count": 6,
   "id": "d350651b",
   "metadata": {},
   "outputs": [
    {
     "name": "stdout",
     "output_type": "stream",
     "text": [
      "1.63 s ± 41.2 ms per loop (mean ± std. dev. of 7 runs, 1 loop each)\n"
     ]
    }
   ],
   "source": [
    "%timeit mm_numba(A, B)"
   ]
  },
  {
   "cell_type": "markdown",
   "id": "d8b3744b",
   "metadata": {},
   "source": [
    "## Tiled numba\n"
   ]
  },
  {
   "cell_type": "code",
   "execution_count": 16,
   "id": "ccadfcd6",
   "metadata": {},
   "outputs": [],
   "source": [
    "@nb.njit\n",
    "def mm_tiled(A, B, TS):\n",
    "    result = np.zeros((A.shape[0], B.shape[1]))\n",
    "    TS = TS\n",
    "    for ta_x in range(int(np.ceil(A.shape[0] / TS))):\n",
    "        for ta_y in range(int(np.ceil(A.shape[1] / TS))):\n",
    "            temp_A = A[ta_x * TS:(ta_x + 1) * TS, ta_y * TS : (ta_y + 1) * TS]\n",
    "            tb_x = ta_y\n",
    "            for tb_y in range(int(np.ceil(B.shape[1] / TS))):\n",
    "                temp_B = B[tb_x * TS:(tb_x + 1) * TS, tb_y * TS : (tb_y + 1) * TS]\n",
    "                output = result[ta_x * TS:(ta_x + 1) * TS, tb_y * TS : (tb_y + 1) * TS]\n",
    "                for di in range(TS):\n",
    "                    for dj in range(TS):\n",
    "                        for dk in range(TS):\n",
    "                            output[di, dj] += temp_A[di, dk] * temp_B[dk, dj]\n",
    "    return result\n",
    "\n",
    "def measure(TS):\n",
    "    start = time()\n",
    "    mm_tiled(A, B, TS)\n",
    "    return time() - start"
   ]
  },
  {
   "cell_type": "code",
   "execution_count": 18,
   "id": "764eb3be",
   "metadata": {},
   "outputs": [],
   "source": [
    "sizes = 2 ** np.arange(11)\n",
    "timings = [measure(x) for x in sizes]"
   ]
  },
  {
   "cell_type": "code",
   "execution_count": 21,
   "id": "daba513b",
   "metadata": {},
   "outputs": [
    {
     "name": "stdout",
     "output_type": "stream",
     "text": [
      "38.2 ms ± 540 µs per loop (mean ± std. dev. of 7 runs, 10 loops each)\n"
     ]
    }
   ],
   "source": [
    "%timeit A @ B"
   ]
  },
  {
   "cell_type": "code",
   "execution_count": 30,
   "id": "8ff43361",
   "metadata": {},
   "outputs": [
    {
     "data": {
      "text/plain": [
       "<matplotlib.legend.Legend at 0x7f3d33f81940>"
      ]
     },
     "execution_count": 30,
     "metadata": {},
     "output_type": "execute_result"
    },
    {
     "data": {
      "image/png": "[encoded data removed]",
      "text/plain": [
       "<Figure size 720x576 with 1 Axes>"
      ]
     },
     "metadata": {
      "needs_background": "light"
     },
     "output_type": "display_data"
    }
   ],
   "source": [
    "plt.plot(sizes, timings, label='tiled')\n",
    "plt.ylim(0, 2)\n",
    "plt.axhline(1.63, c='red', label='naive')\n",
    "plt.axhline(0.032, c='green', label='numpy')\n",
    "plt.gcf().set_size_inches(10, 8)\n",
    "plt.grid()\n",
    "plt.xlabel('tile size')\n",
    "plt.xscale('log')\n",
    "plt.legend()"
   ]
  },
  {
   "cell_type": "markdown",
   "id": "1195c0a1",
   "metadata": {},
   "source": [
    "# Problem statement\n",
    "\n",
    "We have an N x N x 2 tensor.\n",
    "\n",
    "The first two dimensions represent X and Y coordinates \n",
    "The last dimension is used to store two different attributes available for each coordinate (eg sunshing and rainfall)\n",
    "\n",
    "Our goal is to compare the ratio of intensities of sun / rain\n",
    "\n",
    "The formula we decided to to use is the following (for coordinates x and y)\n",
    "\n",
    "`output[x, y] = norm(M[x-5:x+5, y-5:y+5, 0]) / norm(M[x-5:x+5, y-5:y+5, 1])`\n",
    "\n",
    "## Array initialization"
   ]
  },
  {
   "cell_type": "code",
   "execution_count": 33,
   "id": "a391b074",
   "metadata": {},
   "outputs": [],
   "source": [
    "M = np.random.randn(4000, 4000, 2)"
   ]
  },
  {
   "cell_type": "markdown",
   "id": "1893fb8e",
   "metadata": {},
   "source": [
    "\n",
    "## Naive numba version"
   ]
  },
  {
   "cell_type": "code",
   "execution_count": 37,
   "id": "eedccaed",
   "metadata": {},
   "outputs": [],
   "source": [
    "@nb.njit\n",
    "def compute(M):\n",
    "    result = np.zeros(M.shape[:-1])\n",
    "    for x in range(5, M.shape[0] - 5):\n",
    "        for y in range(5, M.shape[1] - 5):\n",
    "            window = M[x - 5: x + 5, y - 5 : y + 5]\n",
    "            result[x, y] = np.linalg.norm(window[0]) / np.linalg.norm(window[1])\n",
    "    return result"
   ]
  },
  {
   "cell_type": "code",
   "execution_count": 38,
   "id": "46feb123",
   "metadata": {},
   "outputs": [
    {
     "name": "stdout",
     "output_type": "stream",
     "text": [
      "CPU times: user 10.2 s, sys: 50.4 ms, total: 10.3 s\n",
      "Wall time: 10.3 s\n"
     ]
    }
   ],
   "source": [
    "%time r = compute(M)"
   ]
  },
  {
   "cell_type": "markdown",
   "id": "296e57b4",
   "metadata": {},
   "source": [
    "\n",
    "## Naive numba version"
   ]
  },
  {
   "cell_type": "code",
   "execution_count": 6,
   "id": "f78841a2",
   "metadata": {},
   "outputs": [],
   "source": [
    "@nb.njit\n",
    "def compute_reversed(M):\n",
    "    result = np.zeros(M.shape[:-1])\n",
    "    for x in range(5, M.shape[0] - 5):\n",
    "        for y in range(5, M.shape[1] - 5):\n",
    "            window = M[x - 5: x + 5, y - 5 : y + 5]\n",
    "            result[x, y] = np.linalg.norm(window[0]) / np.linalg.norm(window[1])\n",
    "    return result"
   ]
  },
  {
   "cell_type": "code",
   "execution_count": 7,
   "id": "7b5bafb3",
   "metadata": {},
   "outputs": [
    {
     "name": "stdout",
     "output_type": "stream",
     "text": [
      "CPU times: user 9.55 s, sys: 31.4 ms, total: 9.59 s\n",
      "Wall time: 9.57 s\n"
     ]
    }
   ],
   "source": [
    "%time r = compute_reversed(M)"
   ]
  },
  {
   "cell_type": "markdown",
   "id": "bc74282f",
   "metadata": {},
   "source": [
    "## Some time for you to think\n",
    "\n",
    "\n",
    ".\n",
    "\n",
    "\n",
    ".\n",
    "\n",
    "\n",
    "A little more time\n",
    "\n",
    ".\n",
    "\n",
    ".\n",
    "\n",
    " ## Tiling"
   ]
  },
  {
   "cell_type": "code",
   "execution_count": 35,
   "id": "ef2bbf7a",
   "metadata": {},
   "outputs": [],
   "source": [
    "@nb.njit()\n",
    "def chunked(array_shape, tile_size):\n",
    "    result = np.empty(len(tile_size), dtype=nb.int64)\n",
    "    for idx in range(len(result)):\n",
    "        result[idx] = np.ceil(array_shape[idx] / tile_size[idx])\n",
    "    return result\n",
    "\n",
    "@nb.njit\n",
    "def compute_tiled(M):\n",
    "    TS = (16, 16)\n",
    "    sizes = chunked(M.shape, TS)\n",
    "    result = np.zeros(M.shape[:-1])\n",
    "    \n",
    "    # Iterating over tiles\n",
    "    for tx in range(sizes[0]):\n",
    "        for ty in range(sizes[1]):\n",
    "            \n",
    "            # Iterating over cells within a tile \n",
    "            for x in range(max(25, tx * TS[0]), min(M.shape[0] - 25, (tx + 1) * TS[0])):\n",
    "                for y in range(max(25, ty * TS[1]), min(M.shape[1] - 25, (ty + 1) * TS[1])):\n",
    "                    window = M[x - 25: x + 25, y - 25 : y + 25]\n",
    "                    result[x, y] = np.linalg.norm(window[0]) / np.linalg.norm(window[1])\n",
    "    return result"
   ]
  },
  {
   "cell_type": "code",
   "execution_count": 36,
   "id": "9e0ab741",
   "metadata": {},
   "outputs": [
    {
     "name": "stdout",
     "output_type": "stream",
     "text": [
      "CPU times: user 12.7 s, sys: 35.6 ms, total: 12.7 s\n",
      "Wall time: 12.7 s\n"
     ]
    }
   ],
   "source": [
    "%time r = compute_tiled(M)"
   ]
  },
  {
   "cell_type": "markdown",
   "id": "37c45458",
   "metadata": {},
   "source": [
    "\n",
    "## Naive numba version"
   ]
  }
 ],
 "metadata": {
  "kernelspec": {
   "display_name": "Python 3 (ipykernel)",
   "language": "python",
   "name": "python3"
  },
  "language_info": {
   "codemirror_mode": {
    "name": "ipython",
    "version": 3
   },
   "file_extension": ".py",
   "mimetype": "text/x-python",
   "name": "python",
   "nbconvert_exporter": "python",
   "pygments_lexer": "ipython3",
   "version": "3.9.9"
  }
 },
 "nbformat": 4,
 "nbformat_minor": 5
}
