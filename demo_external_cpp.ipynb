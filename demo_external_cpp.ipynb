{
 "cells": [
  {
   "cell_type": "markdown",
   "id": "af991ea7",
   "metadata": {},
   "source": [
    "# Problem statement\n",
    "\n",
    "We have a C++ function written by someone else that would take long to convert into python (or is more preformant). How do we avoid having to convert our data to another file, process it in C++ and load it back in python ?\n",
    "\n",
    "## Step 1: Acquire the code\n",
    "\n",
    "```\n",
    "extern \"C\" {\n",
    "    int doubler(int x) {\n",
    "        return x * 2;\n",
    "    }\n",
    "}\n",
    "```\n",
    "\n",
    "## Step 2: Compile it on our machine\n",
    "\n",
    "`clang -march=native -O3 -shared -o demo.so -fPIC demo.cpp `\n"
   ]
  },
  {
   "cell_type": "code",
   "execution_count": 15,
   "id": "9a617c12",
   "metadata": {},
   "outputs": [],
   "source": [
    "from ctypes import CDLL, c_int32, c_float\n",
    "import numba as nb"
   ]
  },
  {
   "cell_type": "code",
   "execution_count": 2,
   "id": "6ccafd98",
   "metadata": {},
   "outputs": [],
   "source": [
    "mylibrary = CDLL('./demo.so')"
   ]
  },
  {
   "cell_type": "code",
   "execution_count": 29,
   "id": "2fb9db7d",
   "metadata": {},
   "outputs": [],
   "source": [
    "doubler = mylibrary.doubler # read the function from the file\n",
    "doubler.argtypes = [c_int32] # specify the argument types"
   ]
  },
  {
   "cell_type": "markdown",
   "id": "a1debbc9",
   "metadata": {},
   "source": [
    "Use with python:"
   ]
  },
  {
   "cell_type": "code",
   "execution_count": 30,
   "id": "09fa81a9",
   "metadata": {},
   "outputs": [
    {
     "data": {
      "text/plain": [
       "8"
      ]
     },
     "execution_count": 30,
     "metadata": {},
     "output_type": "execute_result"
    }
   ],
   "source": [
    "doubler(4)"
   ]
  },
  {
   "cell_type": "code",
   "execution_count": 32,
   "id": "fcc5a219",
   "metadata": {},
   "outputs": [],
   "source": [
    "doubler.argtypes = [c_float] # specify the argument types"
   ]
  },
  {
   "cell_type": "code",
   "execution_count": 33,
   "id": "53ce9466",
   "metadata": {},
   "outputs": [
    {
     "data": {
      "text/plain": [
       "2139750528"
      ]
     },
     "execution_count": 33,
     "metadata": {},
     "output_type": "execute_result"
    }
   ],
   "source": [
    "doubler(4.2)"
   ]
  },
  {
   "cell_type": "markdown",
   "id": "ebbe97b3",
   "metadata": {},
   "source": [
    "Or even within numba:"
   ]
  },
  {
   "cell_type": "code",
   "execution_count": 9,
   "id": "ae77dba5",
   "metadata": {},
   "outputs": [],
   "source": [
    "@nb.njit\n",
    "def use():\n",
    "    for i in range(10):\n",
    "        print(doubler(i))\n",
    "        "
   ]
  },
  {
   "cell_type": "code",
   "execution_count": 10,
   "id": "90a517a0",
   "metadata": {},
   "outputs": [
    {
     "name": "stdout",
     "output_type": "stream",
     "text": [
      "0\n",
      "2\n",
      "4\n",
      "6\n",
      "8\n",
      "10\n",
      "12\n",
      "14\n",
      "16\n",
      "18\n"
     ]
    }
   ],
   "source": [
    "use()"
   ]
  }
 ],
 "metadata": {
  "kernelspec": {
   "display_name": "Python 3 (ipykernel)",
   "language": "python",
   "name": "python3"
  },
  "language_info": {
   "codemirror_mode": {
    "name": "ipython",
    "version": 3
   },
   "file_extension": ".py",
   "mimetype": "text/x-python",
   "name": "python",
   "nbconvert_exporter": "python",
   "pygments_lexer": "ipython3",
   "version": "3.9.9"
  }
 },
 "nbformat": 4,
 "nbformat_minor": 5
}
