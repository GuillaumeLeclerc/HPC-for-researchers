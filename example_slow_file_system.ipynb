{
 "cells": [
  {
   "cell_type": "code",
   "execution_count": 30,
   "id": "10eabafd",
   "metadata": {},
   "outputs": [],
   "source": [
    "import numpy as np"
   ]
  },
  {
   "cell_type": "code",
   "execution_count": 31,
   "id": "8b9382de",
   "metadata": {},
   "outputs": [],
   "source": [
    "data = np.random.randn(1_0000, 1_000)"
   ]
  },
  {
   "cell_type": "code",
   "execution_count": 32,
   "id": "d29af431",
   "metadata": {},
   "outputs": [
    {
     "name": "stdout",
     "output_type": "stream",
     "text": [
      "CPU times: user 0 ns, sys: 46.2 ms, total: 46.2 ms\n",
      "Wall time: 46 ms\n"
     ]
    }
   ],
   "source": [
    "%time np.save('/tmp/demo_single.npy', data)"
   ]
  },
  {
   "cell_type": "code",
   "execution_count": 34,
   "id": "e79df523",
   "metadata": {},
   "outputs": [],
   "source": [
    "def write_multiple(data):\n",
    "    for i in range(data.shape[0]):\n",
    "        np.save(f'/tmp/demo_multi{i}.npy', data[i])"
   ]
  },
  {
   "cell_type": "code",
   "execution_count": 35,
   "id": "92e2e7bc",
   "metadata": {},
   "outputs": [
    {
     "name": "stdout",
     "output_type": "stream",
     "text": [
      "CPU times: user 1.28 s, sys: 602 ms, total: 1.88 s\n",
      "Wall time: 1.93 s\n"
     ]
    }
   ],
   "source": [
    "%time write_multiple(data)"
   ]
  },
  {
   "cell_type": "code",
   "execution_count": 36,
   "id": "24854e54",
   "metadata": {},
   "outputs": [
    {
     "name": "stdout",
     "output_type": "stream",
     "text": [
      "CPU times: user 1.78 ms, sys: 17.6 ms, total: 19.4 ms\n",
      "Wall time: 18.4 ms\n"
     ]
    }
   ],
   "source": [
    "%time _ = np.load('/tmp/demo_single.npy')"
   ]
  },
  {
   "cell_type": "code",
   "execution_count": 26,
   "id": "81b0c9cc",
   "metadata": {},
   "outputs": [],
   "source": [
    "def read_multiple():\n",
    "    result = []\n",
    "    for i in range(data.shape[0]):\n",
    "        result.append(np.load(f'/tmp/demo_multi{i}.npy'))\n",
    "    return np.stack(result)"
   ]
  },
  {
   "cell_type": "code",
   "execution_count": 27,
   "id": "b8f67f12",
   "metadata": {},
   "outputs": [
    {
     "name": "stdout",
     "output_type": "stream",
     "text": [
      "CPU times: user 1.61 s, sys: 130 ms, total: 1.74 s\n",
      "Wall time: 1.74 s\n"
     ]
    }
   ],
   "source": [
    "%time _ = read_multiple()"
   ]
  },
  {
   "cell_type": "code",
   "execution_count": 40,
   "id": "1c8578db",
   "metadata": {},
   "outputs": [],
   "source": [
    "arr = np.memmap('/tmp/titi.mmap', mode='w+', shape=data.shape, dtype=data.dtype)\n"
   ]
  },
  {
   "cell_type": "code",
   "execution_count": 43,
   "id": "45a1fedb",
   "metadata": {},
   "outputs": [],
   "source": [
    "arr[:] = data\n",
    "ar"
   ]
  },
  {
   "cell_type": "code",
   "execution_count": 44,
   "id": "bdf163d5",
   "metadata": {},
   "outputs": [],
   "source": [
    "\n",
    "arr2 = np.memmap('/tmp/titi.mmap', mode='r+', shape=data.shape, dtype=np.int32)\n",
    "\n"
   ]
  },
  {
   "cell_type": "code",
   "execution_count": 45,
   "id": "3713c367",
   "metadata": {},
   "outputs": [
    {
     "data": {
      "text/plain": [
       "memmap([[  783787014,  1071833625,  -973485278, ..., -1075280218,\n",
       "          -191282536,  1071768056],\n",
       "        [ -929516055, -1075351199,    13538352, ...,  1071897621,\n",
       "          1976111707,  1070619181],\n",
       "        [  381683033, -1074191794, -2022586356, ..., -1078306219,\n",
       "           404050360, -1073887309],\n",
       "        ...,\n",
       "        [ -424592799, -1079901699,  -771117095, ..., -1075624038,\n",
       "           483940243, -1074449443],\n",
       "        [ 2045705086, -1078205616,  -664925259, ..., -1078465554,\n",
       "            14259306,  1072225940],\n",
       "        [ 2063411720, -1077746312,  -283002772, ...,  1072236270,\n",
       "         -1091615907, -1074185033]], dtype=int32)"
      ]
     },
     "execution_count": 45,
     "metadata": {},
     "output_type": "execute_result"
    }
   ],
   "source": [
    "arr2"
   ]
  },
  {
   "cell_type": "code",
   "execution_count": 47,
   "id": "b9066f34",
   "metadata": {},
   "outputs": [
    {
     "name": "stdout",
     "output_type": "stream",
     "text": [
      "173 µs ± 621 ns per loop (mean ± std. dev. of 7 runs, 10000 loops each)\n"
     ]
    }
   ],
   "source": [
    "%timeit a =np.lib.format.open_memmap('/tmp/demo_single.npy')"
   ]
  },
  {
   "cell_type": "code",
   "execution_count": 48,
   "id": "c8d20a77",
   "metadata": {},
   "outputs": [
    {
     "data": {
      "text/plain": [
       "1230.4186651707093"
      ]
     },
     "execution_count": 48,
     "metadata": {},
     "output_type": "execute_result"
    }
   ],
   "source": [
    "a.sum()\n",
    "i"
   ]
  },
  {
   "cell_type": "code",
   "execution_count": 53,
   "id": "f5fe67e9",
   "metadata": {},
   "outputs": [
    {
     "data": {
      "text/plain": [
       "memmap([ 2.2366853e+08,  1.2387478e-40,  3.4833497e-15,  4.4898648e+21,\n",
       "         1.5767864e-19,  5.4892294e-05,  2.2228396e-15,  7.6830766e+31,\n",
       "         1.7177136e+19,  6.7425655e+22,  1.5767864e-19,  1.8727951e+31,\n",
       "         2.2228527e-15,  2.7904159e+29,  1.5767847e-19,  6.4098282e-10,\n",
       "         1.4584911e-19,  6.4096911e-10,  1.3306611e+37,  1.3563156e-19,\n",
       "         1.3563156e-19,  1.3563156e-19,  1.3563156e-19,  1.3563156e-19,\n",
       "         1.3563156e-19,  1.3563156e-19,  1.3563156e-19,  1.3563156e-19,\n",
       "         1.3563156e-19,  1.3563156e-19,  1.3563156e-19,  7.7097618e-33,\n",
       "         8.3510129e-11,  1.7725250e+00, -7.9933916e+03,  1.9487581e+00,\n",
       "        -1.3968942e+14,  1.9654331e+00,  4.8988150e-36,  1.4939789e+00,\n",
       "         6.3375105e+06,  1.4642894e+00, -4.8438863e+12, -1.6368036e+00,\n",
       "        -2.7311614e-04, -2.0198705e+00,  3.5176727e+02, -1.9125041e+00,\n",
       "         5.5150492e+19, -1.8831769e+00,  3.8552606e+35, -1.9034358e+00,\n",
       "        -4.6147584e+08,  1.7191746e+00,  3.9345124e-01,  1.7942369e+00,\n",
       "         1.7242947e-34,  1.5907742e+00, -4.9087460e+17,  1.9130968e+00,\n",
       "         4.3650074e+09,  1.8349984e+00, -2.5193971e+34, -1.6513432e+00,\n",
       "         5.2792718e-14, -1.6004449e+00,  5.1548871e-10,  1.7665291e+00,\n",
       "         9.7480949e+20, -6.5934163e-01,  1.8286189e+35, -1.9329396e+00,\n",
       "         8.1588700e-37,  1.9168649e+00, -7.6974108e+12, -1.8142935e+00,\n",
       "        -2.2477816e-37, -1.8230640e+00,  5.3401296e-18, -1.8435127e+00,\n",
       "         5.9881848e-24,  1.8109665e+00,  2.0317701e-28,  1.8542235e+00,\n",
       "        -2.3788709e+25, -1.8765293e+00, -4.1306276e+10, -1.5965129e+00,\n",
       "         1.2915775e+16, -1.6191378e+00,  2.8988520e+23,  1.7416975e+00,\n",
       "         6.8070128e-22, -1.8438870e+00,  8.9282659e-35, -1.8874633e+00,\n",
       "         4.1679585e+36, -1.7877420e+00,  1.5630574e+26, -1.8867759e+00],\n",
       "       dtype=float32)"
      ]
     },
     "execution_count": 53,
     "metadata": {},
     "output_type": "execute_result"
    }
   ],
   "source": [
    "np.memmap('/tmp/demo_single.npy', dtype=np.float32)[:100]"
   ]
  },
  {
   "cell_type": "code",
   "execution_count": 50,
   "id": "d8f9521c",
   "metadata": {},
   "outputs": [
    {
     "ename": "SyntaxError",
     "evalue": "invalid syntax (3251951945.py, line 1)",
     "output_type": "error",
     "traceback": [
      "\u001b[0;36m  File \u001b[0;32m\"/tmp/ipykernel_46608/3251951945.py\"\u001b[0;36m, line \u001b[0;32m1\u001b[0m\n\u001b[0;31m    a = np.memmap....\u001b[0m\n\u001b[0m                 ^\u001b[0m\n\u001b[0;31mSyntaxError\u001b[0m\u001b[0;31m:\u001b[0m invalid syntax\n"
     ]
    }
   ],
   "source": [
    "a = np.memmap....\n",
    "b = np.lib.format.open_memmap....\n",
    "ii\n",
    "b[:] = a"
   ]
  },
  {
   "cell_type": "code",
   "execution_count": null,
   "id": "cdd52bb7",
   "metadata": {},
   "outputs": [],
   "source": []
  }
 ],
 "metadata": {
  "kernelspec": {
   "display_name": "Python 3 (ipykernel)",
   "language": "python",
   "name": "python3"
  },
  "language_info": {
   "codemirror_mode": {
    "name": "ipython",
    "version": 3
   },
   "file_extension": ".py",
   "mimetype": "text/x-python",
   "name": "python",
   "nbconvert_exporter": "python",
   "pygments_lexer": "ipython3",
   "version": "3.9.9"
  }
 },
 "nbformat": 4,
 "nbformat_minor": 5
}
