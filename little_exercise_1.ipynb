{
 "cells": [
  {
   "cell_type": "code",
   "execution_count": 1,
   "id": "ec1849d0",
   "metadata": {},
   "outputs": [],
   "source": [
    "import numpy as np\n",
    "import numba as nb\n",
    "from tqdm import tqdm"
   ]
  },
  {
   "cell_type": "markdown",
   "id": "ab2d5058",
   "metadata": {},
   "source": [
    "# Problem Statement\n",
    "\n",
    "Two vector A and B of size N. Return the sum of the outer product of A and B\n",
    "\n",
    "## Array initialization"
   ]
  },
  {
   "cell_type": "code",
   "execution_count": 5,
   "id": "17a02545",
   "metadata": {},
   "outputs": [],
   "source": [
    "N = 40_000\n",
    "A = np.random.randn(N)\n",
    "B = np.random.randn(N)"
   ]
  },
  {
   "cell_type": "markdown",
   "id": "84ed31ad",
   "metadata": {},
   "source": [
    "# Naive python implementation"
   ]
  },
  {
   "cell_type": "code",
   "execution_count": 6,
   "id": "9287add1",
   "metadata": {},
   "outputs": [],
   "source": [
    "def python_only(a, b):\n",
    "    result = 0\n",
    "    for i in tqdm(range(len(a))):\n",
    "        for j in range(len(b)):\n",
    "            result += a[i] * b[j]\n",
    "    return result"
   ]
  },
  {
   "cell_type": "code",
   "execution_count": 7,
   "id": "e989951e",
   "metadata": {},
   "outputs": [
    {
     "name": "stderr",
     "output_type": "stream",
     "text": [
      "  2%|███▍                                                                                                                                                                                               | 711/40000 [00:05<05:08, 127.33it/s]\n"
     ]
    },
    {
     "ename": "KeyboardInterrupt",
     "evalue": "",
     "output_type": "error",
     "traceback": [
      "\u001b[0;31m---------------------------------------------------------------------------\u001b[0m",
      "\u001b[0;31mKeyboardInterrupt\u001b[0m                         Traceback (most recent call last)",
      "\u001b[0;32m<timed exec>\u001b[0m in \u001b[0;36m<module>\u001b[0;34m\u001b[0m\n",
      "\u001b[0;32m/tmp/ipykernel_12427/2493771975.py\u001b[0m in \u001b[0;36mpython_only\u001b[0;34m(a, b)\u001b[0m\n\u001b[1;32m      3\u001b[0m     \u001b[0;32mfor\u001b[0m \u001b[0mi\u001b[0m \u001b[0;32min\u001b[0m \u001b[0mtqdm\u001b[0m\u001b[0;34m(\u001b[0m\u001b[0mrange\u001b[0m\u001b[0;34m(\u001b[0m\u001b[0mlen\u001b[0m\u001b[0;34m(\u001b[0m\u001b[0ma\u001b[0m\u001b[0;34m)\u001b[0m\u001b[0;34m)\u001b[0m\u001b[0;34m)\u001b[0m\u001b[0;34m:\u001b[0m\u001b[0;34m\u001b[0m\u001b[0;34m\u001b[0m\u001b[0m\n\u001b[1;32m      4\u001b[0m         \u001b[0;32mfor\u001b[0m \u001b[0mj\u001b[0m \u001b[0;32min\u001b[0m \u001b[0mrange\u001b[0m\u001b[0;34m(\u001b[0m\u001b[0mlen\u001b[0m\u001b[0;34m(\u001b[0m\u001b[0mb\u001b[0m\u001b[0;34m)\u001b[0m\u001b[0;34m)\u001b[0m\u001b[0;34m:\u001b[0m\u001b[0;34m\u001b[0m\u001b[0;34m\u001b[0m\u001b[0m\n\u001b[0;32m----> 5\u001b[0;31m             \u001b[0mresult\u001b[0m \u001b[0;34m+=\u001b[0m \u001b[0ma\u001b[0m\u001b[0;34m[\u001b[0m\u001b[0mi\u001b[0m\u001b[0;34m]\u001b[0m \u001b[0;34m*\u001b[0m \u001b[0mb\u001b[0m\u001b[0;34m[\u001b[0m\u001b[0mj\u001b[0m\u001b[0;34m]\u001b[0m\u001b[0;34m\u001b[0m\u001b[0;34m\u001b[0m\u001b[0m\n\u001b[0m\u001b[1;32m      6\u001b[0m     \u001b[0;32mreturn\u001b[0m \u001b[0mresult\u001b[0m\u001b[0;34m\u001b[0m\u001b[0;34m\u001b[0m\u001b[0m\n",
      "\u001b[0;31mKeyboardInterrupt\u001b[0m: "
     ]
    }
   ],
   "source": [
    "%time n = python_only(A, B)"
   ]
  },
  {
   "cell_type": "markdown",
   "id": "0a2b5748",
   "metadata": {},
   "source": [
    "# Naive numpy implementation"
   ]
  },
  {
   "cell_type": "code",
   "execution_count": 15,
   "id": "24f4121e",
   "metadata": {},
   "outputs": [],
   "source": [
    "@nb.njit()\n",
    "def numpy_1(a, b):\n",
    "    return np.outer(a, b).sum()"
   ]
  },
  {
   "cell_type": "code",
   "execution_count": 17,
   "id": "8e2c0c57",
   "metadata": {},
   "outputs": [
    {
     "name": "stdout",
     "output_type": "stream",
     "text": [
      "CPU times: user 3.04 s, sys: 2.63 s, total: 5.68 s\n",
      "Wall time: 5.66 s\n"
     ]
    }
   ],
   "source": [
    "%time n = numpy_1(A, B)"
   ]
  },
  {
   "cell_type": "markdown",
   "id": "75b94e3d",
   "metadata": {},
   "source": [
    "# Naive numba implementation"
   ]
  },
  {
   "cell_type": "code",
   "execution_count": 11,
   "id": "8820414c",
   "metadata": {},
   "outputs": [],
   "source": [
    "@nb.njit()\n",
    "def numba_1(a, b):\n",
    "    result = 0\n",
    "    for i in (range(len(a))):\n",
    "        for j in range(len(b)):\n",
    "            result += a[i] * b[j]\n",
    "    return result"
   ]
  },
  {
   "cell_type": "code",
   "execution_count": 12,
   "id": "b13c5639",
   "metadata": {},
   "outputs": [
    {
     "name": "stdout",
     "output_type": "stream",
     "text": [
      "CPU times: user 2.02 s, sys: 1.3 s, total: 3.32 s\n",
      "Wall time: 1.83 s\n"
     ]
    }
   ],
   "source": [
    "%time n = numba_1(A, B)"
   ]
  },
  {
   "cell_type": "markdown",
   "id": "7fa1b85f",
   "metadata": {},
   "source": [
    "# Make sure you learn numpy very well"
   ]
  },
  {
   "cell_type": "code",
   "execution_count": 13,
   "id": "ffee9871",
   "metadata": {},
   "outputs": [
    {
     "name": "stdout",
     "output_type": "stream",
     "text": [
      "787 ms ± 5.62 ms per loop (mean ± std. dev. of 7 runs, 1 loop each)\n"
     ]
    }
   ],
   "source": [
    "%timeit np.einsum('i,j->', A, B)"
   ]
  }
 ],
 "metadata": {
  "kernelspec": {
   "display_name": "Python 3 (ipykernel)",
   "language": "python",
   "name": "python3"
  },
  "language_info": {
   "codemirror_mode": {
    "name": "ipython",
    "version": 3
   },
   "file_extension": ".py",
   "mimetype": "text/x-python",
   "name": "python",
   "nbconvert_exporter": "python",
   "pygments_lexer": "ipython3",
   "version": "3.9.9"
  }
 },
 "nbformat": 4,
 "nbformat_minor": 5
}
