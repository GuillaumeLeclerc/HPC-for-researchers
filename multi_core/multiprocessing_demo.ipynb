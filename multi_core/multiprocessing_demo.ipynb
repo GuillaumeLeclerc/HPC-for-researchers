{
 "cells": [
  {
   "cell_type": "markdown",
   "id": "e72d17b1",
   "metadata": {},
   "source": [
    "# Starting processes"
   ]
  },
  {
   "cell_type": "code",
   "execution_count": 120,
   "id": "bb0708a8",
   "metadata": {},
   "outputs": [],
   "source": [
    "from multiprocessing import Process\n",
    "from multiprocessing import shared_memory\n",
    "from time import sleep\n",
    "import numpy as np\n",
    "import numba as nb\n",
    "import os"
   ]
  },
  {
   "cell_type": "code",
   "execution_count": 56,
   "id": "97f2996f",
   "metadata": {},
   "outputs": [
    {
     "name": "stdout",
     "output_type": "stream",
     "text": [
      "Creating process 0\n",
      "Creating process 1\n",
      "Hello! I am process number 3769497\n",
      "Creating process 2\n",
      "Starting to work!\n",
      "Hello! I am process number 3769502\n",
      "Starting to work!\n",
      "Hello! I am process number 3769511\n",
      "Starting to work!\n",
      "Done!\n",
      "Done!\n",
      "Done!\n",
      "All the processes are done!\n",
      "CPU times: user 4.72 ms, sys: 12.7 ms, total: 17.4 ms\n",
      "Wall time: 1.02 s\n"
     ]
    }
   ],
   "source": [
    "def compute():\n",
    "    print(f\"Hello! I am process number {os.getpid()}\")\n",
    "    print(\"Starting to work!\")\n",
    "    sleep(1)\n",
    "    print(\"Done!\")\n",
    "    \n",
    "\n",
    "def run_processes(n = 3):\n",
    "    \n",
    "    processes = []\n",
    "    \n",
    "    for i in range(n):\n",
    "        print(\"Creating process\", i)\n",
    "        process = Process(target=compute)\n",
    "        process.start()\n",
    "        processes.append(process)\n",
    "        \n",
    "    # Waiting for all processees\n",
    "    for i in range(n):\n",
    "        processes[i].join()\n",
    "        \n",
    "    print(\"All the processes are done!\")\n",
    "        \n",
    "%time run_processes(3)"
   ]
  },
  {
   "cell_type": "code",
   "execution_count": 87,
   "id": "a3fa4634",
   "metadata": {},
   "outputs": [
    {
     "name": "stdout",
     "output_type": "stream",
     "text": [
      "All the processes are done!\n",
      "CPU times: user 2.39 ms, sys: 1.5 ms, total: 3.89 ms\n",
      "Wall time: 2.17 s\n"
     ]
    }
   ],
   "source": [
    "@nb.njit()\n",
    "def work_hard(n):\n",
    "    r = 0\n",
    "    for i in range(int(n)):\n",
    "        r += i**0.5\n",
    "        \n",
    "    return r\n",
    "\n",
    "def run_processes(todo=5_000_000, n = 3):\n",
    "    \n",
    "    processes = []\n",
    "    \n",
    "    for i in range(n):\n",
    "        process = Process(target=work_hard, args=(todo/n, ))\n",
    "        process.start()\n",
    "        processes.append(process)\n",
    "        \n",
    "    # Waiting for all processees\n",
    "    for i in range(n):\n",
    "        processes[i].join()\n",
    "        \n",
    "    print(\"All the processes are done!\")\n",
    "        \n",
    "        \n",
    "%time run_processes(1_000_000_000, n=1)"
   ]
  },
  {
   "cell_type": "markdown",
   "id": "6ddfe119",
   "metadata": {},
   "source": [
    "# Sharing memory\n",
    "\n",
    "## Memmaps"
   ]
  },
  {
   "cell_type": "code",
   "execution_count": 117,
   "id": "de212022",
   "metadata": {},
   "outputs": [
    {
     "name": "stdout",
     "output_type": "stream",
     "text": [
      "CPU times: user 167 ms, sys: 254 ms, total: 422 ms\n",
      "Wall time: 462 ms\n"
     ]
    }
   ],
   "source": [
    "def work(fname, i):\n",
    "    output = np.lib.format.open_memmap(fname)\n",
    "    output[i] += 1\n",
    "    \n",
    "def run_processes(matrix, n = 3):\n",
    "    \n",
    "    processes = []\n",
    "    \n",
    "    fname = '/tmp/tempmem.npy'\n",
    "    output = np.lib.format.open_memmap(fname, shape=matrix.shape, dtype=matrix.dtype, mode='w+')\n",
    "    output[:] = matrix\n",
    "    \n",
    "    for i in range(matrix.shape[0]):\n",
    "        process = Process(target=work, args=(fname, i))\n",
    "        process.start()\n",
    "        processes.append(process)\n",
    "        \n",
    "    [p.join() for p in processes]\n",
    "    \n",
    "    return output\n",
    "        \n",
    "M = np.zeros((3, 5000, 5000))\n",
    "%time result = run_processes(M)"
   ]
  },
  {
   "cell_type": "code",
   "execution_count": 123,
   "id": "dd8858dc",
   "metadata": {},
   "outputs": [
    {
     "name": "stdout",
     "output_type": "stream",
     "text": [
      "CPU times: user 233 ms, sys: 181 ms, total: 415 ms\n",
      "Wall time: 450 ms\n"
     ]
    }
   ],
   "source": [
    "def work(output, i):\n",
    "    output[i] += 1\n",
    "    \n",
    "def run_processes(matrix, n = 3):\n",
    "    \n",
    "    processes = []\n",
    "    \n",
    "    fname = '/tmp/tempmem.npy'\n",
    "    output = np.lib.format.open_memmap(fname, shape=matrix.shape, dtype=matrix.dtype, mode='w+')\n",
    "    output[:] = matrix\n",
    "    \n",
    "    for i in range(matrix.shape[0]):\n",
    "        process = Process(target=work, args=(output, i))\n",
    "        process.start()\n",
    "        processes.append(process)\n",
    "        \n",
    "    [p.join() for p in processes]\n",
    "    \n",
    "    return output\n",
    "        \n",
    "M = np.zeros((3, 5000, 5000))\n",
    "%time result = run_processes(M)"
   ]
  },
  {
   "cell_type": "markdown",
   "id": "bf19da79",
   "metadata": {},
   "source": [
    "## Shared Memory"
   ]
  },
  {
   "cell_type": "code",
   "execution_count": 122,
   "id": "587328a5",
   "metadata": {},
   "outputs": [
    {
     "name": "stdout",
     "output_type": "stream",
     "text": [
      "CPU times: user 4.46 ms, sys: 3.74 ms, total: 8.2 ms\n",
      "Wall time: 62.2 ms\n"
     ]
    }
   ],
   "source": [
    "def work(output, i):\n",
    "    output[i] += 1\n",
    "    \n",
    "def run_processes(matrix, n = 3):\n",
    "    \n",
    "    processes = []\n",
    "    \n",
    "    for i in range(matrix.shape[0]):\n",
    "        process = Process(target=work, args=(matrix, i))\n",
    "        process.start()\n",
    "        processes.append(process)\n",
    "        \n",
    "    [p.join() for p in processes]\n",
    "        \n",
    "\n",
    "\n",
    "M = np.zeros((3, 5000, 5000))\n",
    "shm = shared_memory.SharedMemory(create=True, size=M.nbytes)\n",
    "shm_arr = np.ndarray(M.shape, dtype=M.dtype, buffer=shm.buf)\n",
    "shm_arr[:] = M\n",
    "\n",
    "%time result = run_processes(M)\n",
    "\n",
    "\n",
    "result = shm_arr.copy()\n",
    "shm.close()\n",
    "shm.unlink() # Delete region\n"
   ]
  }
 ],
 "metadata": {
  "kernelspec": {
   "display_name": "Python 3 (ipykernel)",
   "language": "python",
   "name": "python3"
  },
  "language_info": {
   "codemirror_mode": {
    "name": "ipython",
    "version": 3
   },
   "file_extension": ".py",
   "mimetype": "text/x-python",
   "name": "python",
   "nbconvert_exporter": "python",
   "pygments_lexer": "ipython3",
   "version": "3.9.10"
  }
 },
 "nbformat": 4,
 "nbformat_minor": 5
}
