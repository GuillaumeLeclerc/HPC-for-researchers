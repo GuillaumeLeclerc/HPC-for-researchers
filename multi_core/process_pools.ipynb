{
 "cells": [
  {
   "cell_type": "code",
   "execution_count": 1,
   "id": "0cf84853",
   "metadata": {},
   "outputs": [],
   "source": [
    "from multiprocessing import Pool, shared_memory\n",
    "from functools import partial\n",
    "import numpy as np"
   ]
  },
  {
   "cell_type": "markdown",
   "id": "e1c546f3",
   "metadata": {},
   "source": [
    "# Not parallelized"
   ]
  },
  {
   "cell_type": "code",
   "execution_count": 26,
   "id": "29e27bc9",
   "metadata": {},
   "outputs": [
    {
     "name": "stdout",
     "output_type": "stream",
     "text": [
      "953 µs ± 5.75 µs per loop (mean ± std. dev. of 7 runs, 1,000 loops each)\n"
     ]
    }
   ],
   "source": [
    "shape = (2, 10000, 10000)\n",
    "array = np.empty(shape, dtype=np.float32)\n",
    "\n",
    "def single_core():\n",
    "    result = []\n",
    "    for i in range(shape[0]):\n",
    "        result.append(np.linalg.norm(array[i]))\n",
    "        \n",
    "    return result\n",
    "\n",
    "%timeit single_core()"
   ]
  },
  {
   "cell_type": "markdown",
   "id": "c4a6fc4c",
   "metadata": {},
   "source": [
    "# Attempt 1"
   ]
  },
  {
   "cell_type": "code",
   "execution_count": 18,
   "id": "f58fc1ee",
   "metadata": {},
   "outputs": [
    {
     "name": "stdout",
     "output_type": "stream",
     "text": [
      "CPU times: user 1.01 s, sys: 660 ms, total: 1.67 s\n",
      "Wall time: 3.86 s\n"
     ]
    }
   ],
   "source": [
    "def work(i, shm):\n",
    "    return np.linalg.norm(shm[i])\n",
    "\n",
    "shape = (2, 1000, 1000)\n",
    "dtype = np.float32\n",
    "\n",
    "shm = shared_memory.SharedMemory(create=True, size=np.prod(shape) * 4) # 4bytes per float32\n",
    "array = np.ndarray(shape, dtype=dtype,buffer=shm.buf)\n",
    "\n",
    "workers = Pool()\n",
    "%time result = workers.map(partial(work, shm=array), range(shape[0]))"
   ]
  },
  {
   "cell_type": "markdown",
   "id": "39027c92",
   "metadata": {},
   "source": [
    "# Attempt 2"
   ]
  },
  {
   "cell_type": "code",
   "execution_count": 19,
   "id": "371580dc",
   "metadata": {},
   "outputs": [
    {
     "name": "stdout",
     "output_type": "stream",
     "text": [
      "CPU times: user 390 µs, sys: 293 µs, total: 683 µs\n",
      "Wall time: 78.5 ms\n"
     ]
    }
   ],
   "source": [
    "def work(i, shm):\n",
    "    matrix = np.ndarray(shape, dtype=dtype,buffer=shm.buf)\n",
    "    return np.linalg.norm(matrix[i])\n",
    "\n",
    "shape = (2, 10000, 10000)\n",
    "dtype = np.float32\n",
    "\n",
    "shm = shared_memory.SharedMemory(create=True, size=np.prod(shape) * 4) # 4bytes per float32\n",
    "array = np.ndarray(shape, dtype=dtype,buffer=shm.buf)\n",
    "\n",
    "workers = Pool()\n",
    "%time result = workers.map(partial(work, shm=shm), range(shape[0]))"
   ]
  }
 ],
 "metadata": {
  "kernelspec": {
   "display_name": "Python 3 (ipykernel)",
   "language": "python",
   "name": "python3"
  },
  "language_info": {
   "codemirror_mode": {
    "name": "ipython",
    "version": 3
   },
   "file_extension": ".py",
   "mimetype": "text/x-python",
   "name": "python",
   "nbconvert_exporter": "python",
   "pygments_lexer": "ipython3",
   "version": "3.9.10"
  }
 },
 "nbformat": 4,
 "nbformat_minor": 5
}
