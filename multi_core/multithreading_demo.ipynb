{
 "cells": [
  {
   "cell_type": "code",
   "execution_count": 1,
   "id": "cea19203",
   "metadata": {},
   "outputs": [],
   "source": [
    "from threading import Thread, current_thread\n",
    "from multiprocessing.pool import ThreadPool\n",
    "from functools import partial\n",
    "from time import sleep\n",
    "import numpy as np\n",
    "import numba as nb\n",
    "import os"
   ]
  },
  {
   "cell_type": "markdown",
   "id": "71e23c4b",
   "metadata": {},
   "source": [
    "# Manual Start"
   ]
  },
  {
   "cell_type": "code",
   "execution_count": 13,
   "id": "65c118b9",
   "metadata": {},
   "outputs": [
    {
     "name": "stdout",
     "output_type": "stream",
     "text": [
      "Creating Thread 0\n",
      "Hello! I am process number 3792884\n",
      "Hello! I am thread number 140540756874944\n",
      "Creating Thread 1\n",
      "Hello! I am process number 3792884\n",
      "Hello! I am thread number 140540765267648\n",
      "Starting to work!\n",
      "Creating Thread 2\n",
      "Hello! I am process number 3792884\n",
      "Hello! I am thread number 140540774708928\n",
      "Starting to work!\n",
      "Starting to work!\n",
      "Done!Done!\n",
      "\n",
      "Done!\n",
      "All the processes are done!\n",
      "CPU times: user 968 µs, sys: 3.25 ms, total: 4.21 ms\n",
      "Wall time: 1 s\n"
     ]
    }
   ],
   "source": [
    "def compute():\n",
    "    print(f\"Hello! I am process number {os.getpid()}\")\n",
    "    print(f\"Hello! I am thread number {current_thread().ident}\")\n",
    "    print(\"Starting to work!\")\n",
    "    sleep(1)\n",
    "    print(\"Done!\")\n",
    "    \n",
    "\n",
    "def run_threads(n = 3):\n",
    "    \n",
    "    threads = []\n",
    "    \n",
    "    for i in range(n):\n",
    "        print(\"Creating Thread\", i)\n",
    "        thread = Thread(target=compute)\n",
    "        thread.start()\n",
    "        threads.append(thread)\n",
    "        \n",
    "    # Waiting for all processees\n",
    "    for i in range(n):\n",
    "        threads[i].join()\n",
    "        \n",
    "    print(\"All the processes are done!\")\n",
    "        \n",
    "%time run_threads(3)"
   ]
  },
  {
   "cell_type": "markdown",
   "id": "2defc4b8",
   "metadata": {},
   "source": [
    "# Thread Pool"
   ]
  },
  {
   "cell_type": "code",
   "execution_count": 7,
   "id": "51996bed",
   "metadata": {},
   "outputs": [],
   "source": [
    "def work(i, matrix):\n",
    "    return np.linalg.norm(matrix[i])\n",
    "\n",
    "shape = (10000, 500, 50)\n",
    "dtype = np.float32\n",
    "\n",
    "matrix = np.ones(shape, dtype=dtype)\n",
    "\n",
    "workers = ThreadPool()"
   ]
  },
  {
   "cell_type": "code",
   "execution_count": 11,
   "id": "e34e3f5a",
   "metadata": {},
   "outputs": [
    {
     "name": "stdout",
     "output_type": "stream",
     "text": [
      "183 ms ± 43.3 ms per loop (mean ± std. dev. of 7 runs, 1 loop each)\n"
     ]
    }
   ],
   "source": [
    "%timeit result = workers.map(partial(work, matrix=matrix), range(shape[0]))"
   ]
  },
  {
   "cell_type": "markdown",
   "id": "1519c2e6",
   "metadata": {},
   "source": [
    "# Within Numba"
   ]
  },
  {
   "cell_type": "code",
   "execution_count": 19,
   "id": "42955277",
   "metadata": {},
   "outputs": [],
   "source": [
    "@nb.njit(parallel=True)\n",
    "def work_numba(matrix):\n",
    "    result = np.empty(matrix.shape[0])\n",
    "    \n",
    "    for i in nb.prange(matrix.shape[0]):\n",
    "        result[i] = np.linalg.norm(matrix[i])\n",
    "        \n",
    "    return result"
   ]
  },
  {
   "cell_type": "code",
   "execution_count": 20,
   "id": "93da924a",
   "metadata": {},
   "outputs": [
    {
     "name": "stdout",
     "output_type": "stream",
     "text": [
      "59.6 ms ± 9.33 ms per loop (mean ± std. dev. of 7 runs, 1 loop each)\n"
     ]
    }
   ],
   "source": [
    "%timeit work_numba(matrix)"
   ]
  }
 ],
 "metadata": {
  "kernelspec": {
   "display_name": "Python 3 (ipykernel)",
   "language": "python",
   "name": "python3"
  },
  "language_info": {
   "codemirror_mode": {
    "name": "ipython",
    "version": 3
   },
   "file_extension": ".py",
   "mimetype": "text/x-python",
   "name": "python",
   "nbconvert_exporter": "python",
   "pygments_lexer": "ipython3",
   "version": "3.9.10"
  }
 },
 "nbformat": 4,
 "nbformat_minor": 5
}
