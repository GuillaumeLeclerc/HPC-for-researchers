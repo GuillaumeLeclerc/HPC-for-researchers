{
 "cells": [
  {
   "cell_type": "code",
   "execution_count": 2,
   "id": "c41288d4",
   "metadata": {},
   "outputs": [],
   "source": [
    "from threading import Thread, current_thread\n",
    "from multiprocessing.pool import ThreadPool\n",
    "from functools import partial\n",
    "from time import sleep\n",
    "import numpy as np\n",
    "import numba as nb\n",
    "import os"
   ]
  },
  {
   "cell_type": "code",
   "execution_count": 9,
   "id": "e00ed2b9",
   "metadata": {},
   "outputs": [],
   "source": [
    "def work_no_threads(matrix):\n",
    "    result = 0\n",
    "    for i in range(matrix.shape[0]):\n",
    "        for j in range(matrix.shape[1]):\n",
    "            for k in range(matrix.shape[2]):\n",
    "                result += matrix[i, j, k]\n",
    "    return result"
   ]
  },
  {
   "cell_type": "code",
   "execution_count": 13,
   "id": "8e6c4522",
   "metadata": {},
   "outputs": [],
   "source": [
    "def work(i, matrix):\n",
    "    result = 0\n",
    "    for j in range(matrix.shape[1]):\n",
    "        for k in range(matrix.shape[2]):\n",
    "            result += matrix[i, j, k]\n",
    "    return result\n",
    "\n",
    "shape = (100, 100, 100)\n",
    "dtype = np.float32\n",
    "\n",
    "matrix = np.ones(shape, dtype=dtype)\n",
    "\n",
    "workers = ThreadPool()"
   ]
  },
  {
   "cell_type": "code",
   "execution_count": 14,
   "id": "6843401b",
   "metadata": {},
   "outputs": [
    {
     "name": "stdout",
     "output_type": "stream",
     "text": [
      "CPU times: user 252 ms, sys: 0 ns, total: 252 ms\n",
      "Wall time: 250 ms\n"
     ]
    }
   ],
   "source": [
    "%time _ = workers.map(partial(work, matrix=matrix), range(matrix.shape[0]))"
   ]
  },
  {
   "cell_type": "code",
   "execution_count": 15,
   "id": "35b4c17a",
   "metadata": {},
   "outputs": [
    {
     "name": "stdout",
     "output_type": "stream",
     "text": [
      "CPU times: user 150 ms, sys: 0 ns, total: 150 ms\n",
      "Wall time: 150 ms\n"
     ]
    },
    {
     "data": {
      "text/plain": [
       "1000000.0"
      ]
     },
     "execution_count": 15,
     "metadata": {},
     "output_type": "execute_result"
    }
   ],
   "source": [
    "%time work_no_threads(matrix)"
   ]
  }
 ],
 "metadata": {
  "kernelspec": {
   "display_name": "Python 3 (ipykernel)",
   "language": "python",
   "name": "python3"
  },
  "language_info": {
   "codemirror_mode": {
    "name": "ipython",
    "version": 3
   },
   "file_extension": ".py",
   "mimetype": "text/x-python",
   "name": "python",
   "nbconvert_exporter": "python",
   "pygments_lexer": "ipython3",
   "version": "3.9.10"
  }
 },
 "nbformat": 4,
 "nbformat_minor": 5
}
