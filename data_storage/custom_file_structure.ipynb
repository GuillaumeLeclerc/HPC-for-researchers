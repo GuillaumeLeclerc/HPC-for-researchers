{
 "cells": [
  {
   "cell_type": "code",
   "execution_count": 1,
   "id": "66913a4b",
   "metadata": {},
   "outputs": [],
   "source": [
    "import numpy as np"
   ]
  },
  {
   "cell_type": "code",
   "execution_count": 10,
   "id": "2d3ec538",
   "metadata": {},
   "outputs": [],
   "source": [
    "N = 10000\n",
    "data_A = np.random.randn(N).astype(np.float32)\n",
    "data_B = np.random.randint(0, 10000, size=N, dtype=np.uint16)"
   ]
  },
  {
   "cell_type": "markdown",
   "id": "5e232c9b",
   "metadata": {},
   "source": [
    "# Option 1\n",
    "\n",
    "## Step 1: Creation of a new custom type"
   ]
  },
  {
   "cell_type": "code",
   "execution_count": 18,
   "id": "35df1048",
   "metadata": {},
   "outputs": [],
   "source": [
    "my_custom_type = np.dtype([\n",
    "    ('measurement', np.float32),\n",
    "    ('batch_id', np.uint16)\n",
    "])"
   ]
  },
  {
   "cell_type": "markdown",
   "id": "636bc002",
   "metadata": {},
   "source": [
    "## Step 2: Allocation of an array of this type"
   ]
  },
  {
   "cell_type": "code",
   "execution_count": 19,
   "id": "439ca311",
   "metadata": {},
   "outputs": [],
   "source": [
    "full_data = np.empty(N, dtype=my_custom_type)"
   ]
  },
  {
   "cell_type": "markdown",
   "id": "5a563e05",
   "metadata": {},
   "source": [
    "## Step 3: Fill it"
   ]
  },
  {
   "cell_type": "code",
   "execution_count": 23,
   "id": "f1ac799e",
   "metadata": {},
   "outputs": [],
   "source": [
    "full_data['measurement'] = data_A\n",
    "full_data['batch_id'] = data_B"
   ]
  },
  {
   "cell_type": "code",
   "execution_count": 25,
   "id": "0acc4888",
   "metadata": {},
   "outputs": [
    {
     "data": {
      "text/plain": [
       "(2.3258538, 6224)"
      ]
     },
     "execution_count": 25,
     "metadata": {},
     "output_type": "execute_result"
    }
   ],
   "source": [
    "full_data[0]"
   ]
  },
  {
   "cell_type": "code",
   "execution_count": 26,
   "id": "9c3ff5a0",
   "metadata": {},
   "outputs": [
    {
     "data": {
      "text/plain": [
       "array([ 2.3258538 , -1.549708  ,  0.6967527 , ...,  0.52565753,\n",
       "       -0.70380616,  0.6447657 ], dtype=float32)"
      ]
     },
     "execution_count": 26,
     "metadata": {},
     "output_type": "execute_result"
    }
   ],
   "source": [
    "full_data['measurement']"
   ]
  },
  {
   "cell_type": "markdown",
   "id": "8d856b44",
   "metadata": {},
   "source": [
    "## Step 4: Store it"
   ]
  },
  {
   "cell_type": "code",
   "execution_count": 34,
   "id": "8bd20ef1",
   "metadata": {},
   "outputs": [],
   "source": [
    "# With numpy save\n",
    "np.save('/tmp/custom_dtype_1', full_data)\n",
    "\n",
    "# With a regular memmap\n",
    "mmap1 = np.memmap('/tmp/custom_dtype.dat', shape=full_data.shape, dtype=full_data.dtype, mode='w+')\n",
    "mmap1[:] = full_data\n",
    "\n",
    "# With a numpy_memmap\n",
    "mmap2 = np.lib.format.open_memmap('/tmp/custom_dtype_2.npy', shape=full_data.shape, dtype=full_data.dtype, mode='w+')\n",
    "mmap2['measurement'] = data_A\n",
    "mmap2['batch_id'] = data_B"
   ]
  },
  {
   "cell_type": "markdown",
   "id": "2a5a9cbe",
   "metadata": {},
   "source": [
    "## Step 5: Load it"
   ]
  },
  {
   "cell_type": "code",
   "execution_count": 40,
   "id": "ae2b9778",
   "metadata": {},
   "outputs": [],
   "source": [
    "loaded_1 = np.load('/tmp/custom_dtype_1.npy')\n",
    "loaded_2 = np.load('/tmp/custom_dtype_2.npy')\n",
    "\n",
    "loaded_3 = np.lib.format.open_memmap('/tmp/custom_dtype_1.npy')\n",
    "\n",
    "hoho = np.memmap('/tmp/custom_dtype.dat')"
   ]
  },
  {
   "cell_type": "code",
   "execution_count": 41,
   "id": "fbfe4694",
   "metadata": {},
   "outputs": [
    {
     "data": {
      "text/plain": [
       "memmap([202, 218,  20, ...,  63,  63,  26], dtype=uint8)"
      ]
     },
     "execution_count": 41,
     "metadata": {},
     "output_type": "execute_result"
    }
   ],
   "source": [
    "hoho"
   ]
  },
  {
   "cell_type": "code",
   "execution_count": 43,
   "id": "0eb2f0e7",
   "metadata": {},
   "outputs": [],
   "source": [
    "my_wrong_type = np.dtype([\n",
    "    ('batch_id', np.uint16),\n",
    "    ('measurement', np.float32),\n",
    "])"
   ]
  },
  {
   "cell_type": "code",
   "execution_count": 45,
   "id": "29614e03",
   "metadata": {},
   "outputs": [],
   "source": [
    "hoho2 = np.memmap('/tmp/custom_dtype.dat', shape=N, dtype=my_wrong_type)"
   ]
  },
  {
   "cell_type": "code",
   "execution_count": 47,
   "id": "0b9a3da4",
   "metadata": {},
   "outputs": [
    {
     "data": {
      "text/plain": [
       "(56010, 2.6915721e-24)"
      ]
     },
     "execution_count": 47,
     "metadata": {},
     "output_type": "execute_result"
    }
   ],
   "source": [
    "hoho2[0]"
   ]
  },
  {
   "cell_type": "code",
   "execution_count": 48,
   "id": "49ebf508",
   "metadata": {},
   "outputs": [
    {
     "data": {
      "text/plain": [
       "(2.3258538, 6224)"
      ]
     },
     "execution_count": 48,
     "metadata": {},
     "output_type": "execute_result"
    }
   ],
   "source": [
    "full_data[0]"
   ]
  },
  {
   "cell_type": "markdown",
   "id": "c746e04c",
   "metadata": {},
   "source": [
    "# Option 2\n",
    "\n",
    "### Alternative 1"
   ]
  },
  {
   "cell_type": "code",
   "execution_count": 53,
   "id": "59d8a476",
   "metadata": {},
   "outputs": [
    {
     "data": {
      "text/plain": [
       "array([ 2.3258538 , -1.549708  ,  0.6967527 , ...,  0.52565753,\n",
       "       -0.70380616,  0.6447657 ], dtype=float32)"
      ]
     },
     "execution_count": 53,
     "metadata": {},
     "output_type": "execute_result"
    }
   ],
   "source": [
    "# Write\n",
    "np.savez('/tmp/custom_dtype_savez',\n",
    "    measurement= data_A,\n",
    "    batch_id= data_B\n",
    ")\n",
    "\n",
    "archive = np.load('/tmp/custom_dtype_savez.npz')\n",
    "archive['measurement']"
   ]
  },
  {
   "cell_type": "code",
   "execution_count": 57,
   "id": "27aad80f",
   "metadata": {},
   "outputs": [
    {
     "data": {
      "text/plain": [
       "array([6224, 5433, 2903, ..., 6813, 1378, 6719], dtype=uint16)"
      ]
     },
     "execution_count": 57,
     "metadata": {},
     "output_type": "execute_result"
    }
   ],
   "source": [
    "# Write\n",
    "np.savez_compressed('/tmp/custom_dtype_savez_2',\n",
    "    measurement= data_A,\n",
    "    batch_id= data_B\n",
    ")\n",
    "\n",
    "archive = np.load('/tmp/custom_dtype_savez_2.npz')\n",
    "archive['batch_id']"
   ]
  },
  {
   "cell_type": "markdown",
   "id": "99c2df04",
   "metadata": {},
   "source": [
    "### Alternative 2\n",
    "\n",
    "If the two files are reasonably large then it's actually ok to store them separately\n",
    "\n",
    "### Alternative 3: Concatenation"
   ]
  },
  {
   "cell_type": "code",
   "execution_count": 63,
   "id": "e4267503",
   "metadata": {},
   "outputs": [
    {
     "data": {
      "text/plain": [
       "array([6224, 5433, 2903, ..., 6813, 1378, 6719], dtype=uint16)"
      ]
     },
     "execution_count": 63,
     "metadata": {},
     "output_type": "execute_result"
    }
   ],
   "source": [
    "memmap3 = np.memmap('/tmp/probably_dont_do_this', dtype=np.uint8, shape=(6 * N,), mode='w+')\n",
    "memmap3[:4 * N] = data_A.view(np.uint8)\n",
    "memmap3[4 * N:] = data_B.view(np.uint8)\n",
    "\n",
    "raw_loaded = np.load('/tmp/probably_dont_do_this.npy')\n",
    "\n",
    "loaded_A = raw_loaded[:4 * N].view(np.float32)\n",
    "loaded_B = raw_loaded[4 * N:].view(np.uint16)\n",
    "\n",
    "loaded_B"
   ]
  }
 ],
 "metadata": {
  "kernelspec": {
   "display_name": "Python 3 (ipykernel)",
   "language": "python",
   "name": "python3"
  },
  "language_info": {
   "codemirror_mode": {
    "name": "ipython",
    "version": 3
   },
   "file_extension": ".py",
   "mimetype": "text/x-python",
   "name": "python",
   "nbconvert_exporter": "python",
   "pygments_lexer": "ipython3",
   "version": "3.9.10"
  }
 },
 "nbformat": 4,
 "nbformat_minor": 5
}
