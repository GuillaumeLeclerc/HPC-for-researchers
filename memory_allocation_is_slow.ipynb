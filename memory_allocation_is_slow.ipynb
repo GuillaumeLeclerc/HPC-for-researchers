{
 "cells": [
  {
   "cell_type": "code",
   "execution_count": 1,
   "id": "3e868d76",
   "metadata": {},
   "outputs": [],
   "source": [
    "import numpy as np\n",
    "import numba as nb"
   ]
  },
  {
   "cell_type": "markdown",
   "id": "8a8efbef",
   "metadata": {},
   "source": [
    "# Problem 1\n",
    "\n",
    "(Same as previous )\n",
    "\n",
    "We have an array of numbers and we want to compute the following formula\n",
    "\n",
    "`r = (2 * x)**2 + (2 * x) / 3 + abs(2 * x)** 0.5`\n",
    "\n",
    "## Array Creation"
   ]
  },
  {
   "cell_type": "code",
   "execution_count": 2,
   "id": "822158bd",
   "metadata": {},
   "outputs": [],
   "source": [
    "N = 1_000_000\n",
    "array = np.random.randn(N)"
   ]
  },
  {
   "cell_type": "markdown",
   "id": "07ec3776",
   "metadata": {},
   "source": [
    "## Old Numpy implementation"
   ]
  },
  {
   "cell_type": "code",
   "execution_count": 3,
   "id": "4aaf6786",
   "metadata": {},
   "outputs": [],
   "source": [
    "def numpy_1(x):\n",
    "    x2 = 2*x\n",
    "    return x2**2 + x2 / 3 + np.abs(x2)** 0.5"
   ]
  },
  {
   "cell_type": "code",
   "execution_count": 7,
   "id": "1e3302d6",
   "metadata": {},
   "outputs": [
    {
     "name": "stdout",
     "output_type": "stream",
     "text": [
      "7.69 ms ± 491 µs per loop (mean ± std. dev. of 7 runs, 100 loops each)\n"
     ]
    }
   ],
   "source": [
    "%timeit numpy_1(array)"
   ]
  },
  {
   "cell_type": "markdown",
   "id": "1f541e6a",
   "metadata": {},
   "source": [
    "## Better implementation"
   ]
  },
  {
   "cell_type": "code",
   "execution_count": 5,
   "id": "05f79c60",
   "metadata": {},
   "outputs": [],
   "source": [
    "def numpy_2(x):\n",
    "    x2 = 2*x\n",
    "    result = x2**2\n",
    "    t1 = np.abs(x2)\n",
    "    result += t1\n",
    "    x2 /= 3\n",
    "    result += x2\n",
    "    return result"
   ]
  },
  {
   "cell_type": "code",
   "execution_count": 8,
   "id": "6be82731",
   "metadata": {},
   "outputs": [
    {
     "name": "stdout",
     "output_type": "stream",
     "text": [
      "6.81 ms ± 603 µs per loop (mean ± std. dev. of 7 runs, 100 loops each)\n"
     ]
    }
   ],
   "source": [
    "%timeit numpy_2(array)"
   ]
  },
  {
   "cell_type": "markdown",
   "id": "578aed22",
   "metadata": {},
   "source": [
    "# Example 2"
   ]
  },
  {
   "cell_type": "code",
   "execution_count": 4,
   "id": "3db08cb2",
   "metadata": {},
   "outputs": [],
   "source": [
    "@nb.njit()\n",
    "def test_allocation():\n",
    "    s = 0\n",
    "    for i in range(1000):\n",
    "        arr = np.zeros(1_000_000)\n",
    "        s += arr.sum()\n",
    "    return arr"
   ]
  },
  {
   "cell_type": "code",
   "execution_count": 5,
   "id": "c8b72556",
   "metadata": {},
   "outputs": [
    {
     "name": "stdout",
     "output_type": "stream",
     "text": [
      "227 ms ± 5.14 ms per loop (mean ± std. dev. of 7 runs, 1 loop each)\n"
     ]
    }
   ],
   "source": [
    "%timeit test_allocation()"
   ]
  },
  {
   "cell_type": "code",
   "execution_count": 6,
   "id": "b2a0e640",
   "metadata": {},
   "outputs": [],
   "source": [
    "@nb.njit()\n",
    "def test_allocation_2():\n",
    "    s = 0\n",
    "    for i in range(1000):\n",
    "        arr = np.empty(1_000_000)\n",
    "        s += arr.sum()\n",
    "    return arr"
   ]
  },
  {
   "cell_type": "code",
   "execution_count": 7,
   "id": "8b7a8350",
   "metadata": {},
   "outputs": [
    {
     "name": "stdout",
     "output_type": "stream",
     "text": [
      "102 µs ± 1.2 µs per loop (mean ± std. dev. of 7 runs, 10000 loops each)\n"
     ]
    }
   ],
   "source": [
    "%timeit test_allocation_2()"
   ]
  }
 ],
 "metadata": {
  "kernelspec": {
   "display_name": "Python 3 (ipykernel)",
   "language": "python",
   "name": "python3"
  },
  "language_info": {
   "codemirror_mode": {
    "name": "ipython",
    "version": 3
   },
   "file_extension": ".py",
   "mimetype": "text/x-python",
   "name": "python",
   "nbconvert_exporter": "python",
   "pygments_lexer": "ipython3",
   "version": "3.9.9"
  }
 },
 "nbformat": 4,
 "nbformat_minor": 5
}
