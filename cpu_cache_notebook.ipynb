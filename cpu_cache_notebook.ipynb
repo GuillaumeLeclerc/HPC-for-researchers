{
 "cells": [
  {
   "cell_type": "code",
   "execution_count": 1,
   "id": "0781d53a",
   "metadata": {},
   "outputs": [],
   "source": [
    "import numpy as np"
   ]
  },
  {
   "cell_type": "code",
   "execution_count": 3,
   "id": "069a0781",
   "metadata": {},
   "outputs": [],
   "source": [
    "import numba as nb\n",
    "\n",
    "def init_array(N):\n",
    "    return np.random.randn(N, 128)\n",
    "\n",
    "@nb.njit()\n",
    "def sum_A(array):\n",
    "    total = 0\n",
    "    for i in range(array.shape[0]):\n",
    "        for j in range(array.shape[1]):\n",
    "            total += array[i, j]\n",
    "    return total\n",
    "\n",
    "@nb.njit()\n",
    "def sum_B(array):\n",
    "    total = 0\n",
    "    for j in range(array.shape[1]):\n",
    "        for i in range(array.shape[0]):\n",
    "            total += array[i, j]\n",
    "    return total\n",
    "\n",
    "@nb.njit()\n",
    "def sum_random(array, order):\n",
    "    total = 0\n",
    "    for i in range(array.shape[0]):\n",
    "        for j in range(array.shape[1]):\n",
    "            total += array[i, order[j]]\n",
    "    return total"
   ]
  },
  {
   "cell_type": "markdown",
   "id": "23efca1c",
   "metadata": {},
   "source": [
    "## Medium Array"
   ]
  },
  {
   "cell_type": "code",
   "execution_count": 4,
   "id": "78d55e58",
   "metadata": {},
   "outputs": [
    {
     "name": "stdout",
     "output_type": "stream",
     "text": [
      "Array Size: 256.0MB\n"
     ]
    }
   ],
   "source": [
    "my_array = init_array(1024 * 8 * 64)\n",
    "total_size = np.prod(my_array.shape) * 4 / 2**20\n",
    "print(f\"Array Size: {total_size}MB\")"
   ]
  },
  {
   "cell_type": "code",
   "execution_count": 8,
   "id": "f7504c53",
   "metadata": {},
   "outputs": [],
   "source": [
    "random_order = np.random.permutation(my_array.shape[1])"
   ]
  },
  {
   "cell_type": "code",
   "execution_count": 5,
   "id": "291c5b75",
   "metadata": {},
   "outputs": [
    {
     "name": "stdout",
     "output_type": "stream",
     "text": [
      "88.8 ms ± 1.58 ms per loop (mean ± std. dev. of 7 runs, 1 loop each)\n"
     ]
    }
   ],
   "source": [
    "%timeit sum_A(my_array)"
   ]
  },
  {
   "cell_type": "code",
   "execution_count": 6,
   "id": "69fd0c94",
   "metadata": {},
   "outputs": [
    {
     "name": "stdout",
     "output_type": "stream",
     "text": [
      "640 ms ± 4.6 ms per loop (mean ± std. dev. of 7 runs, 1 loop each)\n"
     ]
    }
   ],
   "source": [
    "%timeit sum_B(my_array)"
   ]
  },
  {
   "cell_type": "code",
   "execution_count": 9,
   "id": "7800a5b2",
   "metadata": {},
   "outputs": [
    {
     "name": "stdout",
     "output_type": "stream",
     "text": [
      "138 ms ± 8.36 ms per loop (mean ± std. dev. of 7 runs, 1 loop each)\n"
     ]
    }
   ],
   "source": [
    "%timeit sum_random(my_array, random_order)"
   ]
  }
 ],
 "metadata": {
  "kernelspec": {
   "display_name": "Python 3 (ipykernel)",
   "language": "python",
   "name": "python3"
  },
  "language_info": {
   "codemirror_mode": {
    "name": "ipython",
    "version": 3
   },
   "file_extension": ".py",
   "mimetype": "text/x-python",
   "name": "python",
   "nbconvert_exporter": "python",
   "pygments_lexer": "ipython3",
   "version": "3.9.9"
  }
 },
 "nbformat": 4,
 "nbformat_minor": 5
}
