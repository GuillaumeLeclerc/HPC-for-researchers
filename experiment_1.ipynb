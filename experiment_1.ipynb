{
 "cells": [
  {
   "cell_type": "code",
   "execution_count": 3,
   "id": "ae6e7307",
   "metadata": {},
   "outputs": [],
   "source": [
    "def iterate(n):\n",
    "    a = 0\n",
    "    for i in range(n):\n",
    "        a += 1\n",
    "    return a"
   ]
  },
  {
   "cell_type": "markdown",
   "id": "6961013d",
   "metadata": {},
   "source": [
    "## Ballpark estimate"
   ]
  },
  {
   "cell_type": "code",
   "execution_count": 1,
   "id": "69c949eb",
   "metadata": {},
   "outputs": [
    {
     "name": "stdout",
     "output_type": "stream",
     "text": [
      "0.45 ms\n"
     ]
    }
   ],
   "source": [
    "print(f\"{1_000_000 * 3 / 2 * 0.3e-9 * 1e3} ms\")"
   ]
  },
  {
   "cell_type": "markdown",
   "id": "0a17b380",
   "metadata": {},
   "source": [
    "## Measurement"
   ]
  },
  {
   "cell_type": "code",
   "execution_count": 4,
   "id": "ae1750e2",
   "metadata": {},
   "outputs": [
    {
     "name": "stdout",
     "output_type": "stream",
     "text": [
      "28.3 ms ± 428 µs per loop (mean ± std. dev. of 7 runs, 10 loops each)\n"
     ]
    }
   ],
   "source": [
    "%timeit iterate(1_000_000)"
   ]
  },
  {
   "cell_type": "code",
   "execution_count": null,
   "id": "1b7f3923",
   "metadata": {},
   "outputs": [],
   "source": [
    "30e-3 / 1000000"
   ]
  },
  {
   "cell_type": "markdown",
   "id": "7061ef3b",
   "metadata": {},
   "source": [
    "## Numpy"
   ]
  },
  {
   "cell_type": "code",
   "execution_count": 5,
   "id": "8463241f",
   "metadata": {},
   "outputs": [],
   "source": [
    "import numpy as np"
   ]
  },
  {
   "cell_type": "code",
   "execution_count": 6,
   "id": "d70df0c7",
   "metadata": {},
   "outputs": [],
   "source": [
    "array = np.ones(1000000)"
   ]
  },
  {
   "cell_type": "code",
   "execution_count": 7,
   "id": "8c544fb8",
   "metadata": {},
   "outputs": [
    {
     "data": {
      "text/plain": [
       "1000000.0"
      ]
     },
     "execution_count": 7,
     "metadata": {},
     "output_type": "execute_result"
    }
   ],
   "source": [
    "array.sum()"
   ]
  },
  {
   "cell_type": "code",
   "execution_count": 8,
   "id": "05e358f7",
   "metadata": {},
   "outputs": [
    {
     "name": "stdout",
     "output_type": "stream",
     "text": [
      "511 µs ± 34 µs per loop (mean ± std. dev. of 7 runs, 1000 loops each)\n"
     ]
    }
   ],
   "source": [
    "%timeit np.ones(1000000).sum()"
   ]
  },
  {
   "cell_type": "code",
   "execution_count": null,
   "id": "dfbd48d8",
   "metadata": {},
   "outputs": [],
   "source": [
    "%timeit np.ones(1000000)"
   ]
  },
  {
   "cell_type": "code",
   "execution_count": null,
   "id": "d79487b3",
   "metadata": {},
   "outputs": [],
   "source": [
    "%timeit array.sum()"
   ]
  },
  {
   "cell_type": "markdown",
   "id": "dfca8dc2",
   "metadata": {},
   "source": [
    "## Numba"
   ]
  },
  {
   "cell_type": "code",
   "execution_count": 10,
   "id": "15e4871d",
   "metadata": {},
   "outputs": [],
   "source": [
    "import numba as nb"
   ]
  },
  {
   "cell_type": "code",
   "execution_count": 11,
   "id": "44e80993",
   "metadata": {},
   "outputs": [],
   "source": [
    "iterate_numba = nb.njit(iterate)"
   ]
  },
  {
   "cell_type": "code",
   "execution_count": 13,
   "id": "1933f12f",
   "metadata": {},
   "outputs": [
    {
     "name": "stdout",
     "output_type": "stream",
     "text": [
      "158 ns ± 2.2 ns per loop (mean ± std. dev. of 7 runs, 10000000 loops each)\n"
     ]
    }
   ],
   "source": [
    "%timeit iterate_numba(1_000_000_000)"
   ]
  },
  {
   "cell_type": "code",
   "execution_count": 14,
   "id": "1f638b65",
   "metadata": {},
   "outputs": [
    {
     "name": "stdout",
     "output_type": "stream",
     "text": [
      "\t.text\n",
      "\t.file\t\"<string>\"\n",
      "\t.globl\t_ZN8__main__11iterate$241Ex\n",
      "\t.p2align\t4, 0x90\n",
      "\t.type\t_ZN8__main__11iterate$241Ex,@function\n",
      "_ZN8__main__11iterate$241Ex:\n",
      "\tmovq\t%rdx, %rax\n",
      "\tsarq\t$63, %rax\n",
      "\tandnq\t%rdx, %rax, %rax\n",
      "\tmovq\t%rax, (%rdi)\n",
      "\txorl\t%eax, %eax\n",
      "\tretq\n",
      ".Lfunc_end0:\n",
      "\t.size\t_ZN8__main__11iterate$241Ex, .Lfunc_end0-_ZN8__main__11iterate$241Ex\n",
      "\n",
      "\t.globl\t_ZN7cpython8__main__11iterate$241Ex\n",
      "\t.p2align\t4, 0x90\n",
      "\t.type\t_ZN7cpython8__main__11iterate$241Ex,@function\n",
      "_ZN7cpython8__main__11iterate$241Ex:\n",
      "\t.cfi_startproc\n",
      "\tpushq\t%r14\n",
      "\t.cfi_def_cfa_offset 16\n",
      "\tpushq\t%rbx\n",
      "\t.cfi_def_cfa_offset 24\n",
      "\tsubq\t$24, %rsp\n",
      "\t.cfi_def_cfa_offset 48\n",
      "\t.cfi_offset %rbx, -24\n",
      "\t.cfi_offset %r14, -16\n",
      "\tmovq\t%rsi, %rdi\n",
      "\tmovabsq\t$.const.iterate, %rsi\n",
      "\tmovabsq\t$PyArg_UnpackTuple, %rbx\n",
      "\tleaq\t16(%rsp), %r8\n",
      "\tmovl\t$1, %edx\n",
      "\tmovl\t$1, %ecx\n",
      "\txorl\t%eax, %eax\n",
      "\tcallq\t*%rbx\n",
      "\tmovq\t$0, 8(%rsp)\n",
      "\ttestl\t%eax, %eax\n",
      "\tje\t.LBB1_1\n",
      "\tmovabsq\t$_ZN08NumbaEnv8__main__11iterate$241Ex, %rax\n",
      "\tcmpq\t$0, (%rax)\n",
      "\tje\t.LBB1_4\n",
      "\tmovq\t16(%rsp), %rdi\n",
      "\tmovabsq\t$PyNumber_Long, %rax\n",
      "\tcallq\t*%rax\n",
      "\ttestq\t%rax, %rax\n",
      "\tje\t.LBB1_6\n",
      "\tmovq\t%rax, %rbx\n",
      "\tmovabsq\t$PyLong_AsLongLong, %rax\n",
      "\tmovq\t%rbx, %rdi\n",
      "\tcallq\t*%rax\n",
      "\tmovq\t%rax, %r14\n",
      "\tmovabsq\t$Py_DecRef, %rax\n",
      "\tmovq\t%rbx, %rdi\n",
      "\tcallq\t*%rax\n",
      "\tmovabsq\t$PyErr_Occurred, %rax\n",
      "\tcallq\t*%rax\n",
      "\ttestq\t%rax, %rax\n",
      "\tjne\t.LBB1_1\n",
      ".LBB1_9:\n",
      "\tmovq\t$0, 8(%rsp)\n",
      "\tmovabsq\t$_ZN8__main__11iterate$241Ex, %rax\n",
      "\tleaq\t8(%rsp), %rdi\n",
      "\tmovq\t%r14, %rdx\n",
      "\tcallq\t*%rax\n",
      "\tmovq\t8(%rsp), %rdi\n",
      "\tmovabsq\t$PyLong_FromLongLong, %rax\n",
      "\tcallq\t*%rax\n",
      "\taddq\t$24, %rsp\n",
      "\t.cfi_def_cfa_offset 24\n",
      "\tpopq\t%rbx\n",
      "\t.cfi_def_cfa_offset 16\n",
      "\tpopq\t%r14\n",
      "\t.cfi_def_cfa_offset 8\n",
      "\tretq\n",
      ".LBB1_4:\n",
      "\t.cfi_def_cfa_offset 48\n",
      "\tmovabsq\t$PyExc_RuntimeError, %rdi\n",
      "\tmovabsq\t$\".const.missing Environment: _ZN08NumbaEnv8__main__11iterate$241Ex\", %rsi\n",
      "\tmovabsq\t$PyErr_SetString, %rax\n",
      "\tcallq\t*%rax\n",
      ".LBB1_1:\n",
      "\txorl\t%eax, %eax\n",
      "\taddq\t$24, %rsp\n",
      "\t.cfi_def_cfa_offset 24\n",
      "\tpopq\t%rbx\n",
      "\t.cfi_def_cfa_offset 16\n",
      "\tpopq\t%r14\n",
      "\t.cfi_def_cfa_offset 8\n",
      "\tretq\n",
      ".LBB1_6:\n",
      "\t.cfi_def_cfa_offset 48\n",
      "\txorl\t%r14d, %r14d\n",
      "\tmovabsq\t$PyErr_Occurred, %rax\n",
      "\tcallq\t*%rax\n",
      "\ttestq\t%rax, %rax\n",
      "\tje\t.LBB1_9\n",
      "\tjmp\t.LBB1_1\n",
      ".Lfunc_end1:\n",
      "\t.size\t_ZN7cpython8__main__11iterate$241Ex, .Lfunc_end1-_ZN7cpython8__main__11iterate$241Ex\n",
      "\t.cfi_endproc\n",
      "\n",
      "\t.globl\tcfunc._ZN8__main__11iterate$241Ex\n",
      "\t.p2align\t4, 0x90\n",
      "\t.type\tcfunc._ZN8__main__11iterate$241Ex,@function\n",
      "cfunc._ZN8__main__11iterate$241Ex:\n",
      "\tpushq\t%rax\n",
      "\tmovq\t%rdi, %rdx\n",
      "\tmovq\t$0, (%rsp)\n",
      "\tmovabsq\t$_ZN8__main__11iterate$241Ex, %rax\n",
      "\tmovq\t%rsp, %rdi\n",
      "\tcallq\t*%rax\n",
      "\tmovq\t(%rsp), %rax\n",
      "\tpopq\t%rcx\n",
      "\tretq\n",
      ".Lfunc_end2:\n",
      "\t.size\tcfunc._ZN8__main__11iterate$241Ex, .Lfunc_end2-cfunc._ZN8__main__11iterate$241Ex\n",
      "\n",
      "\t.type\t_ZN08NumbaEnv8__main__11iterate$241Ex,@object\n",
      "\t.comm\t_ZN08NumbaEnv8__main__11iterate$241Ex,8,8\n",
      "\t.type\t.const.iterate,@object\n",
      "\t.section\t.rodata,\"a\",@progbits\n",
      ".const.iterate:\n",
      "\t.asciz\t\"iterate\"\n",
      "\t.size\t.const.iterate, 8\n",
      "\n",
      "\t.type\t\".const.missing Environment: _ZN08NumbaEnv8__main__11iterate$241Ex\",@object\n",
      "\t.p2align\t4\n",
      "\".const.missing Environment: _ZN08NumbaEnv8__main__11iterate$241Ex\":\n",
      "\t.asciz\t\"missing Environment: _ZN08NumbaEnv8__main__11iterate$241Ex\"\n",
      "\t.size\t\".const.missing Environment: _ZN08NumbaEnv8__main__11iterate$241Ex\", 59\n",
      "\n",
      "\t.section\t\".note.GNU-stack\",\"\",@progbits\n",
      "\n"
     ]
    }
   ],
   "source": [
    "print(iterate_numba.inspect_asm()[nb.int64,])"
   ]
  },
  {
   "cell_type": "code",
   "execution_count": 15,
   "id": "379ec34e",
   "metadata": {},
   "outputs": [],
   "source": [
    "@nb.njit()\n",
    "def mysum(array):\n",
    "    result = 0\n",
    "    for a in array:\n",
    "        result += a\n",
    "    return result"
   ]
  },
  {
   "cell_type": "code",
   "execution_count": 16,
   "id": "cd45a041",
   "metadata": {},
   "outputs": [
    {
     "name": "stdout",
     "output_type": "stream",
     "text": [
      "1.03 ms ± 6.14 µs per loop (mean ± std. dev. of 7 runs, 1000 loops each)\n"
     ]
    }
   ],
   "source": [
    "%timeit mysum(array)"
   ]
  },
  {
   "cell_type": "code",
   "execution_count": 17,
   "id": "efe58df6",
   "metadata": {},
   "outputs": [],
   "source": [
    "@nb.njit()\n",
    "def mysum_2(array):\n",
    "    N = len(array)\n",
    "    i0 = 0\n",
    "    i1 = N // 2\n",
    "    s0 = 0\n",
    "    s1 = 0\n",
    "    result = 0\n",
    "    while i0 < N // 2:\n",
    "        s0 += array[i0]\n",
    "        s1 += array[i1]\n",
    "        i0 += 1\n",
    "        i1 += 1\n",
    "    \n",
    "    return s1 + s0"
   ]
  },
  {
   "cell_type": "code",
   "execution_count": 18,
   "id": "851c0737",
   "metadata": {},
   "outputs": [
    {
     "name": "stdout",
     "output_type": "stream",
     "text": [
      "548 µs ± 16.8 µs per loop (mean ± std. dev. of 7 runs, 1000 loops each)\n"
     ]
    }
   ],
   "source": [
    "%timeit mysum_2(array)"
   ]
  }
 ],
 "metadata": {
  "kernelspec": {
   "display_name": "Python 3 (ipykernel)",
   "language": "python",
   "name": "python3"
  },
  "language_info": {
   "codemirror_mode": {
    "name": "ipython",
    "version": 3
   },
   "file_extension": ".py",
   "mimetype": "text/x-python",
   "name": "python",
   "nbconvert_exporter": "python",
   "pygments_lexer": "ipython3",
   "version": "3.9.9"
  }
 },
 "nbformat": 4,
 "nbformat_minor": 5
}
